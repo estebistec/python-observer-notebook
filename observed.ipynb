{
 "metadata": {
  "name": "",
  "signature": "sha256:217ac099f98cd38c9a551bf2d43e17c431da37e7df26ec9d8e77fbbbcbf87eae"
 },
 "nbformat": 3,
 "nbformat_minor": 0,
 "worksheets": [
  {
   "cells": [
    {
     "cell_type": "heading",
     "level": 1,
     "metadata": {},
     "source": [
      "[Observed](https://github.com/DanielSank/observed)"
     ]
    },
    {
     "cell_type": "heading",
     "level": 2,
     "metadata": {},
     "source": [
      "Handler definitions"
     ]
    },
    {
     "cell_type": "code",
     "collapsed": false,
     "input": [
      "def printer(*args, **kwargs):\n",
      "    print args, kwargs\n",
      "\n",
      "def pretty_printer(*args, **kwargs):\n",
      "    import pprint\n",
      "    pprint.pprint(args)\n",
      "    pprint.pprint(kwargs)\n",
      "    \n",
      "def errorer(*args, **kwargs):\n",
      "    raise Exception"
     ],
     "language": "python",
     "metadata": {},
     "outputs": [],
     "prompt_number": 1
    },
    {
     "cell_type": "heading",
     "level": 2,
     "metadata": {},
     "source": [
      "Event"
     ]
    },
    {
     "cell_type": "code",
     "collapsed": false,
     "input": [
      "from observed import event\n",
      "\n",
      "class C(object):\n",
      "    @event\n",
      "    def do(self, *args, **kwargs):\n",
      "        pass\n",
      "\n",
      "c = C()"
     ],
     "language": "python",
     "metadata": {},
     "outputs": [],
     "prompt_number": 3
    },
    {
     "cell_type": "heading",
     "level": 2,
     "metadata": {},
     "source": [
      "Are multiple handlers allowed?"
     ]
    },
    {
     "cell_type": "code",
     "collapsed": false,
     "input": [
      "c.do.add_observer(printer)\n",
      "c.do.add_observer(pretty_printer)"
     ],
     "language": "python",
     "metadata": {},
     "outputs": [],
     "prompt_number": 4
    },
    {
     "cell_type": "code",
     "collapsed": false,
     "input": [
      "c.do(1, 2, a=3)"
     ],
     "language": "python",
     "metadata": {},
     "outputs": [
      {
       "output_type": "stream",
       "stream": "stdout",
       "text": [
        "(1, 2) {'a': 3}\n",
        "(1, 2)\n",
        "{'a': 3}\n"
       ]
      }
     ],
     "prompt_number": 8
    },
    {
     "cell_type": "heading",
     "level": 2,
     "metadata": {},
     "source": [
      "Are duplicate registrations detected?"
     ]
    },
    {
     "cell_type": "code",
     "collapsed": false,
     "input": [
      "c.do.add_observer(printer)\n",
      "c.do(1, 2, a=3)"
     ],
     "language": "python",
     "metadata": {},
     "outputs": [
      {
       "output_type": "stream",
       "stream": "stdout",
       "text": [
        "(1, 2) {'a': 3}\n",
        "(1, 2)\n",
        "{'a': 3}\n"
       ]
      }
     ],
     "prompt_number": 9
    },
    {
     "cell_type": "heading",
     "level": 2,
     "metadata": {},
     "source": [
      "Do errors stop all handlers?"
     ]
    },
    {
     "cell_type": "code",
     "collapsed": false,
     "input": [
      "@event\n",
      "def do(*args, **kwargs):\n",
      "    pass\n",
      "\n",
      "do.add_observer(errorer)\n",
      "do.add_observer(printer)\n",
      "do(1, 2, a=3)"
     ],
     "language": "python",
     "metadata": {},
     "outputs": [
      {
       "ename": "Exception",
       "evalue": "",
       "output_type": "pyerr",
       "traceback": [
        "\u001b[0;31m---------------------------------------------------------------------------\u001b[0m\n\u001b[0;31mException\u001b[0m                                 Traceback (most recent call last)",
        "\u001b[0;32m<ipython-input-10-eee83120b5cd>\u001b[0m in \u001b[0;36m<module>\u001b[0;34m()\u001b[0m\n\u001b[1;32m      5\u001b[0m \u001b[0mdo\u001b[0m\u001b[0;34m.\u001b[0m\u001b[0madd_observer\u001b[0m\u001b[0;34m(\u001b[0m\u001b[0merrorer\u001b[0m\u001b[0;34m)\u001b[0m\u001b[0;34m\u001b[0m\u001b[0m\n\u001b[1;32m      6\u001b[0m \u001b[0mdo\u001b[0m\u001b[0;34m.\u001b[0m\u001b[0madd_observer\u001b[0m\u001b[0;34m(\u001b[0m\u001b[0mprinter\u001b[0m\u001b[0;34m)\u001b[0m\u001b[0;34m\u001b[0m\u001b[0m\n\u001b[0;32m----> 7\u001b[0;31m \u001b[0mdo\u001b[0m\u001b[0;34m(\u001b[0m\u001b[0;36m1\u001b[0m\u001b[0;34m,\u001b[0m \u001b[0;36m2\u001b[0m\u001b[0;34m,\u001b[0m \u001b[0ma\u001b[0m\u001b[0;34m=\u001b[0m\u001b[0;36m3\u001b[0m\u001b[0;34m)\u001b[0m\u001b[0;34m\u001b[0m\u001b[0m\n\u001b[0m",
        "\u001b[0;32m/Users/sc015622/VirtualEnvs/observers/lib/python2.7/site-packages/observed/base.pyc\u001b[0m in \u001b[0;36m__call__\u001b[0;34m(self, *arg, **kw)\u001b[0m\n\u001b[1;32m    128\u001b[0m                     \u001b[0mcallback\u001b[0m\u001b[0;34m(\u001b[0m\u001b[0mcaller\u001b[0m\u001b[0;34m,\u001b[0m \u001b[0;34m*\u001b[0m\u001b[0marg\u001b[0m\u001b[0;34m,\u001b[0m \u001b[0;34m**\u001b[0m\u001b[0mkw\u001b[0m\u001b[0;34m)\u001b[0m\u001b[0;34m\u001b[0m\u001b[0m\n\u001b[1;32m    129\u001b[0m                 \u001b[0;32melse\u001b[0m\u001b[0;34m:\u001b[0m\u001b[0;34m\u001b[0m\u001b[0m\n\u001b[0;32m--> 130\u001b[0;31m                     \u001b[0mcallback\u001b[0m\u001b[0;34m(\u001b[0m\u001b[0;34m*\u001b[0m\u001b[0marg\u001b[0m\u001b[0;34m,\u001b[0m \u001b[0;34m**\u001b[0m\u001b[0mkw\u001b[0m\u001b[0;34m)\u001b[0m\u001b[0;34m\u001b[0m\u001b[0m\n\u001b[0m\u001b[1;32m    131\u001b[0m             \u001b[0;32melif\u001b[0m \u001b[0mcallback_type\u001b[0m \u001b[0;34m==\u001b[0m \u001b[0;34m'bound_method'\u001b[0m\u001b[0;34m:\u001b[0m\u001b[0;34m\u001b[0m\u001b[0m\n\u001b[1;32m    132\u001b[0m                 \u001b[0;32mfor\u001b[0m \u001b[0mmethodName\u001b[0m \u001b[0;32min\u001b[0m \u001b[0minfo\u001b[0m\u001b[0;34m:\u001b[0m\u001b[0;34m\u001b[0m\u001b[0m\n",
        "\u001b[0;32m<ipython-input-1-1bd812cf050d>\u001b[0m in \u001b[0;36merrorer\u001b[0;34m(*args, **kwargs)\u001b[0m\n\u001b[1;32m      8\u001b[0m \u001b[0;34m\u001b[0m\u001b[0m\n\u001b[1;32m      9\u001b[0m \u001b[0;32mdef\u001b[0m \u001b[0merrorer\u001b[0m\u001b[0;34m(\u001b[0m\u001b[0;34m*\u001b[0m\u001b[0margs\u001b[0m\u001b[0;34m,\u001b[0m \u001b[0;34m**\u001b[0m\u001b[0mkwargs\u001b[0m\u001b[0;34m)\u001b[0m\u001b[0;34m:\u001b[0m\u001b[0;34m\u001b[0m\u001b[0m\n\u001b[0;32m---> 10\u001b[0;31m     \u001b[0;32mraise\u001b[0m \u001b[0mException\u001b[0m\u001b[0;34m\u001b[0m\u001b[0m\n\u001b[0m",
        "\u001b[0;31mException\u001b[0m: "
       ]
      }
     ],
     "prompt_number": 10
    },
    {
     "cell_type": "heading",
     "level": 2,
     "metadata": {},
     "source": [
      "Project health"
     ]
    },
    {
     "cell_type": "markdown",
     "metadata": {},
     "source": [
      "* Source code: https://github.com/DanielSank/observed\n",
      "* Releases: 7\n",
      "* Commit activity: all commits in May 2014 (over 3-day period)\n",
      "\n",
      "Overall: medium (more recent, but essentially one quick burst)"
     ]
    },
    {
     "cell_type": "code",
     "collapsed": false,
     "input": [],
     "language": "python",
     "metadata": {},
     "outputs": []
    }
   ],
   "metadata": {}
  }
 ]
}