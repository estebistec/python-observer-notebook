{
 "metadata": {
  "name": "",
  "signature": "sha256:b6affa06e01599ce0b8f5052ca24206d45fedd40199479d5a8d0a746bf800f35"
 },
 "nbformat": 3,
 "nbformat_minor": 0,
 "worksheets": [
  {
   "cells": [
    {
     "cell_type": "heading",
     "level": 1,
     "metadata": {},
     "source": [
      "[py-notify](http://download.gna.org/py-notify/reference/index.html)"
     ]
    },
    {
     "cell_type": "heading",
     "level": 2,
     "metadata": {},
     "source": [
      "Handler definitions"
     ]
    },
    {
     "cell_type": "code",
     "collapsed": false,
     "input": [
      "def printer(*args, **kwargs):\n",
      "    print args, kwargs\n",
      "\n",
      "def pretty_printer(*args, **kwargs):\n",
      "    import pprint\n",
      "    pprint.pprint(args)\n",
      "    pprint.pprint(kwargs)\n",
      "    \n",
      "def errorer(*args, **kwargs):\n",
      "    raise Exception"
     ],
     "language": "python",
     "metadata": {},
     "outputs": [],
     "prompt_number": 1
    },
    {
     "cell_type": "heading",
     "level": 2,
     "metadata": {},
     "source": [
      "Event"
     ]
    },
    {
     "cell_type": "code",
     "collapsed": false,
     "input": [
      "from notify.signal import Signal\n",
      "\n",
      "do = Signal()\n"
     ],
     "language": "python",
     "metadata": {},
     "outputs": [],
     "prompt_number": 2
    },
    {
     "cell_type": "heading",
     "level": 2,
     "metadata": {},
     "source": [
      "Are multiple handlers allowed"
     ]
    },
    {
     "cell_type": "code",
     "collapsed": false,
     "input": [
      "do.connect(printer)\n",
      "do.connect(pretty_printer)"
     ],
     "language": "python",
     "metadata": {},
     "outputs": [],
     "prompt_number": 3
    },
    {
     "cell_type": "code",
     "collapsed": false,
     "input": [
      "do(1, 2, a=3)"
     ],
     "language": "python",
     "metadata": {},
     "outputs": [
      {
       "output_type": "stream",
       "stream": "stdout",
       "text": [
        "(1, 2) {'a': 3}\n",
        "(1, 2)\n",
        "{'a': 3}\n"
       ]
      }
     ],
     "prompt_number": 4
    },
    {
     "cell_type": "heading",
     "level": 2,
     "metadata": {},
     "source": [
      "Are duplicate handlers detected?"
     ]
    },
    {
     "cell_type": "code",
     "collapsed": false,
     "input": [
      "do.connect(printer)\n",
      "do(1, 2, a=3)"
     ],
     "language": "python",
     "metadata": {},
     "outputs": [
      {
       "output_type": "stream",
       "stream": "stdout",
       "text": [
        "(1, 2) {'a': 3}\n",
        "(1, 2)\n",
        "{'a': 3}\n",
        "(1, 2) {'a': 3}\n"
       ]
      }
     ],
     "prompt_number": 6
    },
    {
     "cell_type": "heading",
     "level": 2,
     "metadata": {},
     "source": [
      "Do errors stop all handlers"
     ]
    },
    {
     "cell_type": "code",
     "collapsed": false,
     "input": [
      "do2 = Signal()\n",
      "\n",
      "do2.connect(errorer)\n",
      "do2.connect(printer)\n",
      "do2(1, 2, a=3)"
     ],
     "language": "python",
     "metadata": {},
     "outputs": [
      {
       "ename": "Exception",
       "evalue": "",
       "output_type": "pyerr",
       "traceback": [
        "\u001b[0;31m---------------------------------------------------------------------------\u001b[0m\n\u001b[0;31mException\u001b[0m                                 Traceback (most recent call last)",
        "\u001b[0;32m/Users/sc015622/VirtualEnvs/observers/lib/python2.7/site-packages/notify/signal.pyc\u001b[0m in \u001b[0;36memit\u001b[0;34m(self, *arguments, **keywords)\u001b[0m\n\u001b[1;32m   1168\u001b[0m                     \u001b[0;32mif\u001b[0m \u001b[0maccumulator\u001b[0m \u001b[0;32mis\u001b[0m \u001b[0mNone\u001b[0m\u001b[0;34m:\u001b[0m\u001b[0;34m\u001b[0m\u001b[0m\n\u001b[1;32m   1169\u001b[0m                         \u001b[0;32mtry\u001b[0m\u001b[0;34m:\u001b[0m\u001b[0;34m\u001b[0m\u001b[0m\n\u001b[0;32m-> 1170\u001b[0;31m                             \u001b[0mhandler\u001b[0m \u001b[0;34m(\u001b[0m\u001b[0;34m*\u001b[0m\u001b[0marguments\u001b[0m\u001b[0;34m,\u001b[0m \u001b[0;34m**\u001b[0m\u001b[0mkeywords\u001b[0m\u001b[0;34m)\u001b[0m\u001b[0;34m\u001b[0m\u001b[0m\n\u001b[0m\u001b[1;32m   1171\u001b[0m                         \u001b[0;32mexcept\u001b[0m\u001b[0;34m:\u001b[0m\u001b[0;34m\u001b[0m\u001b[0m\n\u001b[1;32m   1172\u001b[0m                             \u001b[0mAbstractSignal\u001b[0m\u001b[0;34m.\u001b[0m\u001b[0mexception_handler\u001b[0m \u001b[0;34m(\u001b[0m\u001b[0mself\u001b[0m\u001b[0;34m,\u001b[0m \u001b[0msys\u001b[0m\u001b[0;34m.\u001b[0m\u001b[0mexc_info\u001b[0m \u001b[0;34m(\u001b[0m\u001b[0;34m)\u001b[0m \u001b[0;34m[\u001b[0m\u001b[0;36m1\u001b[0m\u001b[0;34m]\u001b[0m\u001b[0;34m,\u001b[0m \u001b[0mhandler\u001b[0m\u001b[0;34m)\u001b[0m\u001b[0;34m\u001b[0m\u001b[0m\n",
        "\u001b[0;32m<ipython-input-1-1bd812cf050d>\u001b[0m in \u001b[0;36merrorer\u001b[0;34m(*args, **kwargs)\u001b[0m\n\u001b[1;32m      8\u001b[0m \u001b[0;34m\u001b[0m\u001b[0m\n\u001b[1;32m      9\u001b[0m \u001b[0;32mdef\u001b[0m \u001b[0merrorer\u001b[0m\u001b[0;34m(\u001b[0m\u001b[0;34m*\u001b[0m\u001b[0margs\u001b[0m\u001b[0;34m,\u001b[0m \u001b[0;34m**\u001b[0m\u001b[0mkwargs\u001b[0m\u001b[0;34m)\u001b[0m\u001b[0;34m:\u001b[0m\u001b[0;34m\u001b[0m\u001b[0m\n\u001b[0;32m---> 10\u001b[0;31m     \u001b[0;32mraise\u001b[0m \u001b[0mException\u001b[0m\u001b[0;34m\u001b[0m\u001b[0m\n\u001b[0m",
        "\u001b[0;31mException\u001b[0m: "
       ]
      },
      {
       "output_type": "stream",
       "stream": "stdout",
       "text": [
        "(1, 2) {'a': 3}\n"
       ]
      }
     ],
     "prompt_number": 7
    },
    {
     "cell_type": "heading",
     "level": 2,
     "metadata": {},
     "source": [
      "Project health"
     ]
    },
    {
     "cell_type": "markdown",
     "metadata": {},
     "source": [
      "* Source code: http://gna.org/svn/?group=py-notify (I don't even...)\n",
      "* Releases: ~15\n",
      "* Commit activity: hasn't been worked on since 2008\n",
      "\n",
      "Overall: very low"
     ]
    },
    {
     "cell_type": "code",
     "collapsed": false,
     "input": [],
     "language": "python",
     "metadata": {},
     "outputs": []
    }
   ],
   "metadata": {}
  }
 ]
}